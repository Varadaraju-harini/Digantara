{
 "cells": [
  {
   "cell_type": "code",
   "execution_count": 1,
   "metadata": {
    "colab": {
     "base_uri": "https://localhost:8080/"
    },
    "id": "nAPQ2BRRS-m4",
    "outputId": "09b35f5b-4f9b-4add-ee79-b21bbe0197e0"
   },
   "outputs": [
    {
     "name": "stdout",
     "output_type": "stream",
     "text": [
      "Collecting sgp4\n",
      "  Downloading sgp4-2.23-cp310-cp310-win_amd64.whl (160 kB)\n",
      "     -------------------------------------- 160.8/160.8 kB 4.9 MB/s eta 0:00:00\n",
      "Installing collected packages: sgp4\n",
      "Successfully installed sgp4-2.23\n",
      "Note: you may need to restart the kernel to use updated packages.\n"
     ]
    }
   ],
   "source": [
    "pip install sgp4"
   ]
  },
  {
   "cell_type": "code",
   "execution_count": 2,
   "metadata": {
    "colab": {
     "base_uri": "https://localhost:8080/"
    },
    "id": "ZIiNkNwlZzWy",
    "outputId": "6d38132a-4d59-4b67-f776-d77f5a401c8f"
   },
   "outputs": [
    {
     "name": "stdout",
     "output_type": "stream",
     "text": [
      "Requirement already satisfied: pandas in c:\\users\\varadaraju harini\\anaconda3\\lib\\site-packages (1.5.3)\n",
      "Requirement already satisfied: python-dateutil>=2.8.1 in c:\\users\\varadaraju harini\\anaconda3\\lib\\site-packages (from pandas) (2.8.2)\n",
      "Requirement already satisfied: pytz>=2020.1 in c:\\users\\varadaraju harini\\anaconda3\\lib\\site-packages (from pandas) (2022.7)\n",
      "Requirement already satisfied: numpy>=1.21.0 in c:\\users\\varadaraju harini\\anaconda3\\lib\\site-packages (from pandas) (1.23.5)\n",
      "Requirement already satisfied: six>=1.5 in c:\\users\\varadaraju harini\\anaconda3\\lib\\site-packages (from python-dateutil>=2.8.1->pandas) (1.16.0)\n",
      "Note: you may need to restart the kernel to use updated packages.\n"
     ]
    }
   ],
   "source": [
    "pip install pandas"
   ]
  },
  {
   "cell_type": "code",
   "execution_count": 3,
   "metadata": {
    "colab": {
     "base_uri": "https://localhost:8080/"
    },
    "id": "dAW4NKjqn3Wb",
    "outputId": "1e85ec05-a1b6-4c30-9eb9-4c104b00fd43"
   },
   "outputs": [
    {
     "name": "stdout",
     "output_type": "stream",
     "text": [
      "Collecting pyproj\n",
      "  Downloading pyproj-3.6.1-cp310-cp310-win_amd64.whl (6.1 MB)\n",
      "     ---------------------------------------- 6.1/6.1 MB 5.1 MB/s eta 0:00:00\n",
      "Requirement already satisfied: certifi in c:\\users\\varadaraju harini\\anaconda3\\lib\\site-packages (from pyproj) (2022.12.7)\n",
      "Installing collected packages: pyproj\n",
      "Successfully installed pyproj-3.6.1\n",
      "Note: you may need to restart the kernel to use updated packages.\n"
     ]
    }
   ],
   "source": [
    "pip install pyproj"
   ]
  },
  {
   "cell_type": "code",
   "execution_count": 17,
   "metadata": {
    "id": "TiVMby60Z9Jw"
   },
   "outputs": [],
   "source": [
    "import pandas as pd\n",
    "import pyproj\n",
    "from time import process_time\n",
    "from sgp4.api import Satrec\n",
    "from sgp4.api import jday"
   ]
  },
  {
   "cell_type": "code",
   "execution_count": 18,
   "metadata": {
    "id": "OIwTLKcwnnzh"
   },
   "outputs": [],
   "source": [
    "t1_start = process_time()"
   ]
  },
  {
   "cell_type": "code",
   "execution_count": 19,
   "metadata": {
    "id": "778CvVhmVFIn"
   },
   "outputs": [],
   "source": [
    "TLE_file = \"30000sats.txt\"\n",
    "TLEs = open(TLE_file, 'r')\n",
    "L_Name = []\n",
    "L_1 = []\n",
    "L_2 = []\n",
    "i = 1\n",
    "for line in TLEs:\n",
    "    j = i\n",
    "    if i == 1:\n",
    "        L_Name.append(line)\n",
    "        j = 2\n",
    "    elif i == 2:\n",
    "        L_1.append(line[:69])\n",
    "        j = 3\n",
    "    elif i == 3:\n",
    "        L_2.append(line[:69])\n",
    "        j = 1\n",
    "    i = j"
   ]
  },
  {
   "cell_type": "code",
   "execution_count": 20,
   "metadata": {
    "colab": {
     "base_uri": "https://localhost:8080/",
     "height": 89
    },
    "id": "3J06CarfZU0E",
    "outputId": "32dc2844-8507-4c71-985e-f9cb5546d972"
   },
   "outputs": [
    {
     "data": {
      "text/html": [
       "<div>\n",
       "<style scoped>\n",
       "    .dataframe tbody tr th:only-of-type {\n",
       "        vertical-align: middle;\n",
       "    }\n",
       "\n",
       "    .dataframe tbody tr th {\n",
       "        vertical-align: top;\n",
       "    }\n",
       "\n",
       "    .dataframe thead th {\n",
       "        text-align: right;\n",
       "    }\n",
       "</style>\n",
       "<table border=\"1\" class=\"dataframe\">\n",
       "  <thead>\n",
       "    <tr style=\"text-align: right;\">\n",
       "      <th></th>\n",
       "      <th>Satellite_name</th>\n",
       "      <th>Line_1</th>\n",
       "      <th>Line_2</th>\n",
       "      <th>Position_vector</th>\n",
       "      <th>Speed_vector</th>\n",
       "    </tr>\n",
       "  </thead>\n",
       "  <tbody>\n",
       "  </tbody>\n",
       "</table>\n",
       "</div>"
      ],
      "text/plain": [
       "Empty DataFrame\n",
       "Columns: [Satellite_name, Line_1, Line_2, Position_vector, Speed_vector]\n",
       "Index: []"
      ]
     },
     "execution_count": 20,
     "metadata": {},
     "output_type": "execute_result"
    }
   ],
   "source": [
    "dataframe = pd.DataFrame(columns = ['Satellite_name','Line_1','Line_2', 'Position_vector', 'Speed_vector'])\n",
    "dataframe"
   ]
  },
  {
   "cell_type": "code",
   "execution_count": 21,
   "metadata": {
    "id": "8xAPEfcLZYot"
   },
   "outputs": [],
   "source": [
    "dataframe.Satellite_name = L_Name\n",
    "dataframe.Line_1 = L_1\n",
    "dataframe.Line_2 = L_2"
   ]
  },
  {
   "cell_type": "code",
   "execution_count": 22,
   "metadata": {
    "id": "pfVt14JiZqtw"
   },
   "outputs": [],
   "source": [
    "jd, fr = jday(2022, 2, 4, 18, 5, 0)\n",
    "L_PosVector = []\n",
    "L_SpeedVector = []\n",
    "for i in range(len(dataframe)):\n",
    "    s = dataframe.Line_1[i]\n",
    "    t = dataframe.Line_2[i]\n",
    "    satellite = Satrec.twoline2rv(s, t)\n",
    "    e, r, v = satellite.sgp4(jd, fr)\n",
    "    L_PosVector.append(r)\n",
    "    L_SpeedVector.append(v)"
   ]
  },
  {
   "cell_type": "code",
   "execution_count": 23,
   "metadata": {
    "colab": {
     "base_uri": "https://localhost:8080/",
     "height": 622
    },
    "id": "d1VUIzIFaRe5",
    "outputId": "53839d0d-4d02-43f9-df6d-f1552e74bb92"
   },
   "outputs": [
    {
     "data": {
      "text/html": [
       "<div>\n",
       "<style scoped>\n",
       "    .dataframe tbody tr th:only-of-type {\n",
       "        vertical-align: middle;\n",
       "    }\n",
       "\n",
       "    .dataframe tbody tr th {\n",
       "        vertical-align: top;\n",
       "    }\n",
       "\n",
       "    .dataframe thead th {\n",
       "        text-align: right;\n",
       "    }\n",
       "</style>\n",
       "<table border=\"1\" class=\"dataframe\">\n",
       "  <thead>\n",
       "    <tr style=\"text-align: right;\">\n",
       "      <th></th>\n",
       "      <th>Satellite_name</th>\n",
       "      <th>Line_1</th>\n",
       "      <th>Line_2</th>\n",
       "      <th>Position_vector</th>\n",
       "      <th>Speed_vector</th>\n",
       "    </tr>\n",
       "  </thead>\n",
       "  <tbody>\n",
       "    <tr>\n",
       "      <th>0</th>\n",
       "      <td>CALSPHERE 1             \\n</td>\n",
       "      <td>1 00900U 64063C   23238.93868819  .00000734  0...</td>\n",
       "      <td>2 00900  90.1888  49.2514 0027605 147.5719  11...</td>\n",
       "      <td>(3637.741063243929, 2816.586388140429, 5718.98...</td>\n",
       "      <td>(-4.5276089041592025, -3.5546511553377007, 4.6...</td>\n",
       "    </tr>\n",
       "    <tr>\n",
       "      <th>1</th>\n",
       "      <td>CALSPHERE 2             \\n</td>\n",
       "      <td>1 00902U 64063E   23238.53649546  .00000079  0...</td>\n",
       "      <td>2 00902  90.2022  52.6379 0017364 330.4562  95...</td>\n",
       "      <td>(-6.033435361365596, -40.028652968072954, 7432...</td>\n",
       "      <td>(-5.524431321140139, -4.804024060083873, -0.04...</td>\n",
       "    </tr>\n",
       "    <tr>\n",
       "      <th>2</th>\n",
       "      <td>LCS 1                   \\n</td>\n",
       "      <td>1 01361U 65034C   23238.84008827  .00000005  0...</td>\n",
       "      <td>2 01361  32.1414  91.5399 0006524 353.7994   6...</td>\n",
       "      <td>(4367.657246705785, 6817.374579205074, 4275.48...</td>\n",
       "      <td>(-5.804639275536561, 2.6596021144071904, 1.679...</td>\n",
       "    </tr>\n",
       "    <tr>\n",
       "      <th>3</th>\n",
       "      <td>TEMPSAT 1               \\n</td>\n",
       "      <td>1 01512U 65065E   23238.89991498  .00000056  0...</td>\n",
       "      <td>2 01512  89.9355 215.5500 0067984 247.1913 175...</td>\n",
       "      <td>(4415.761759101024, 3600.880085779401, -4983.4...</td>\n",
       "      <td>(-3.692425012365529, -2.997080468365593, -5.44...</td>\n",
       "    </tr>\n",
       "    <tr>\n",
       "      <th>4</th>\n",
       "      <td>CALSPHERE 4A            \\n</td>\n",
       "      <td>1 01520U 65065H   23239.18937743  .00000117  0...</td>\n",
       "      <td>2 01520  89.9674 129.3289 0070572 113.9824 344...</td>\n",
       "      <td>(-3148.764795171497, 3607.8618393429892, -5727...</td>\n",
       "      <td>(-3.7100606903408493, 4.241116201412246, 4.677...</td>\n",
       "    </tr>\n",
       "  </tbody>\n",
       "</table>\n",
       "</div>"
      ],
      "text/plain": [
       "               Satellite_name  \\\n",
       "0  CALSPHERE 1             \\n   \n",
       "1  CALSPHERE 2             \\n   \n",
       "2  LCS 1                   \\n   \n",
       "3  TEMPSAT 1               \\n   \n",
       "4  CALSPHERE 4A            \\n   \n",
       "\n",
       "                                              Line_1  \\\n",
       "0  1 00900U 64063C   23238.93868819  .00000734  0...   \n",
       "1  1 00902U 64063E   23238.53649546  .00000079  0...   \n",
       "2  1 01361U 65034C   23238.84008827  .00000005  0...   \n",
       "3  1 01512U 65065E   23238.89991498  .00000056  0...   \n",
       "4  1 01520U 65065H   23239.18937743  .00000117  0...   \n",
       "\n",
       "                                              Line_2  \\\n",
       "0  2 00900  90.1888  49.2514 0027605 147.5719  11...   \n",
       "1  2 00902  90.2022  52.6379 0017364 330.4562  95...   \n",
       "2  2 01361  32.1414  91.5399 0006524 353.7994   6...   \n",
       "3  2 01512  89.9355 215.5500 0067984 247.1913 175...   \n",
       "4  2 01520  89.9674 129.3289 0070572 113.9824 344...   \n",
       "\n",
       "                                     Position_vector  \\\n",
       "0  (3637.741063243929, 2816.586388140429, 5718.98...   \n",
       "1  (-6.033435361365596, -40.028652968072954, 7432...   \n",
       "2  (4367.657246705785, 6817.374579205074, 4275.48...   \n",
       "3  (4415.761759101024, 3600.880085779401, -4983.4...   \n",
       "4  (-3148.764795171497, 3607.8618393429892, -5727...   \n",
       "\n",
       "                                        Speed_vector  \n",
       "0  (-4.5276089041592025, -3.5546511553377007, 4.6...  \n",
       "1  (-5.524431321140139, -4.804024060083873, -0.04...  \n",
       "2  (-5.804639275536561, 2.6596021144071904, 1.679...  \n",
       "3  (-3.692425012365529, -2.997080468365593, -5.44...  \n",
       "4  (-3.7100606903408493, 4.241116201412246, 4.677...  "
      ]
     },
     "execution_count": 23,
     "metadata": {},
     "output_type": "execute_result"
    }
   ],
   "source": [
    "dataframe.Position_vector = L_PosVector\n",
    "dataframe.Speed_vector = L_SpeedVector\n",
    "dataframe.head(5)"
   ]
  },
  {
   "cell_type": "code",
   "execution_count": 24,
   "metadata": {
    "colab": {
     "base_uri": "https://localhost:8080/",
     "height": 423
    },
    "id": "LiyJwbjo29Eh",
    "outputId": "1ef34729-6887-4223-fa8b-4c4088ac78ba"
   },
   "outputs": [
    {
     "data": {
      "text/html": [
       "<div>\n",
       "<style scoped>\n",
       "    .dataframe tbody tr th:only-of-type {\n",
       "        vertical-align: middle;\n",
       "    }\n",
       "\n",
       "    .dataframe tbody tr th {\n",
       "        vertical-align: top;\n",
       "    }\n",
       "\n",
       "    .dataframe thead th {\n",
       "        text-align: right;\n",
       "    }\n",
       "</style>\n",
       "<table border=\"1\" class=\"dataframe\">\n",
       "  <thead>\n",
       "    <tr style=\"text-align: right;\">\n",
       "      <th></th>\n",
       "      <th>Satellite_name</th>\n",
       "      <th>Position_vector</th>\n",
       "    </tr>\n",
       "  </thead>\n",
       "  <tbody>\n",
       "    <tr>\n",
       "      <th>0</th>\n",
       "      <td>CALSPHERE 1             \\n</td>\n",
       "      <td>(3637.741063243929, 2816.586388140429, 5718.98...</td>\n",
       "    </tr>\n",
       "    <tr>\n",
       "      <th>1</th>\n",
       "      <td>CALSPHERE 2             \\n</td>\n",
       "      <td>(-6.033435361365596, -40.028652968072954, 7432...</td>\n",
       "    </tr>\n",
       "    <tr>\n",
       "      <th>2</th>\n",
       "      <td>LCS 1                   \\n</td>\n",
       "      <td>(4367.657246705785, 6817.374579205074, 4275.48...</td>\n",
       "    </tr>\n",
       "    <tr>\n",
       "      <th>3</th>\n",
       "      <td>TEMPSAT 1               \\n</td>\n",
       "      <td>(4415.761759101024, 3600.880085779401, -4983.4...</td>\n",
       "    </tr>\n",
       "    <tr>\n",
       "      <th>4</th>\n",
       "      <td>CALSPHERE 4A            \\n</td>\n",
       "      <td>(-3148.764795171497, 3607.8618393429892, -5727...</td>\n",
       "    </tr>\n",
       "    <tr>\n",
       "      <th>...</th>\n",
       "      <td>...</td>\n",
       "      <td>...</td>\n",
       "    </tr>\n",
       "    <tr>\n",
       "      <th>8445</th>\n",
       "      <td>2023-123A               \\n</td>\n",
       "      <td>(1377.3024628542191, -2981.86037495711, 6170.3...</td>\n",
       "    </tr>\n",
       "    <tr>\n",
       "      <th>8446</th>\n",
       "      <td>PROGRESS-MS 24          \\n</td>\n",
       "      <td>(-6135.323501112959, -2310.884665456729, -1979...</td>\n",
       "    </tr>\n",
       "    <tr>\n",
       "      <th>8447</th>\n",
       "      <td>2023-126A               \\n</td>\n",
       "      <td>(6559.496927759308, -1416.9466409044855, 2095....</td>\n",
       "    </tr>\n",
       "    <tr>\n",
       "      <th>8448</th>\n",
       "      <td>JILIN-01 KUANFU 02A     \\n</td>\n",
       "      <td>(444.17120502980225, 922.6998274557724, 6858.7...</td>\n",
       "    </tr>\n",
       "    <tr>\n",
       "      <th>8449</th>\n",
       "      <td>CREW DRAGON 7           \\n</td>\n",
       "      <td>(4538.027214830993, 4115.955645896476, -2554.8...</td>\n",
       "    </tr>\n",
       "  </tbody>\n",
       "</table>\n",
       "<p>8450 rows × 2 columns</p>\n",
       "</div>"
      ],
      "text/plain": [
       "                  Satellite_name  \\\n",
       "0     CALSPHERE 1             \\n   \n",
       "1     CALSPHERE 2             \\n   \n",
       "2     LCS 1                   \\n   \n",
       "3     TEMPSAT 1               \\n   \n",
       "4     CALSPHERE 4A            \\n   \n",
       "...                          ...   \n",
       "8445  2023-123A               \\n   \n",
       "8446  PROGRESS-MS 24          \\n   \n",
       "8447  2023-126A               \\n   \n",
       "8448  JILIN-01 KUANFU 02A     \\n   \n",
       "8449  CREW DRAGON 7           \\n   \n",
       "\n",
       "                                        Position_vector  \n",
       "0     (3637.741063243929, 2816.586388140429, 5718.98...  \n",
       "1     (-6.033435361365596, -40.028652968072954, 7432...  \n",
       "2     (4367.657246705785, 6817.374579205074, 4275.48...  \n",
       "3     (4415.761759101024, 3600.880085779401, -4983.4...  \n",
       "4     (-3148.764795171497, 3607.8618393429892, -5727...  \n",
       "...                                                 ...  \n",
       "8445  (1377.3024628542191, -2981.86037495711, 6170.3...  \n",
       "8446  (-6135.323501112959, -2310.884665456729, -1979...  \n",
       "8447  (6559.496927759308, -1416.9466409044855, 2095....  \n",
       "8448  (444.17120502980225, 922.6998274557724, 6858.7...  \n",
       "8449  (4538.027214830993, 4115.955645896476, -2554.8...  \n",
       "\n",
       "[8450 rows x 2 columns]"
      ]
     },
     "execution_count": 24,
     "metadata": {},
     "output_type": "execute_result"
    }
   ],
   "source": [
    "dataframe.drop(columns=['Line_1','Line_2','Speed_vector'])"
   ]
  },
  {
   "cell_type": "markdown",
   "metadata": {
    "id": "RjPX719c8Wmi"
   },
   "source": [
    "-----------------------------------PART-1 ENDS-------------------------------\n"
   ]
  },
  {
   "cell_type": "code",
   "execution_count": 25,
   "metadata": {
    "id": "2ir-hQiGo5b4"
   },
   "outputs": [],
   "source": [
    "\n",
    "def ecef2lla(pos_x, pos_y, pos_z):\n",
    "  transformer = pyproj.Transformer.from_crs(\n",
    "    {\"proj\":'geocent', \"ellps\":'WGS84', \"datum\":'WGS84'},\n",
    "    {\"proj\":'latlong', \"ellps\":'WGS84', \"datum\":'WGS84'},\n",
    "    )\n",
    "  lona, lata, alta = transformer.transform(pos_x,pos_y,pos_z, radians=False )\n",
    "  f.write(\"%s,%s,%s\\n\" % (lata,lona,alta))\n",
    "  return lona, lata, alta"
   ]
  },
  {
   "cell_type": "code",
   "execution_count": 26,
   "metadata": {
    "id": "XCXgdsCBvc_l"
   },
   "outputs": [],
   "source": [
    "f = open('file.txt', 'w')\n",
    "for i in range(len(dataframe)):\n",
    "  ecef2lla(dataframe['Position_vector'][i][0],dataframe['Position_vector'][i][1],dataframe['Position_vector'][i][2])"
   ]
  },
  {
   "cell_type": "markdown",
   "metadata": {
    "id": "RGe60ewu8RDy"
   },
   "source": [
    "----------------PART-2 ENDS---------------------------------------------------"
   ]
  },
  {
   "cell_type": "code",
   "execution_count": 27,
   "metadata": {
    "colab": {
     "base_uri": "https://localhost:8080/"
    },
    "id": "1AcJRIqN8qD0",
    "outputId": "4b6dbc83-a099-42c3-fbd4-cfca173f2629"
   },
   "outputs": [
    {
     "name": "stdout",
     "output_type": "stream",
     "text": [
      "16.0\n"
     ]
    }
   ],
   "source": [
    "t1_end = process_time()\n",
    "print(t1_end - t1_start)"
   ]
  },
  {
   "cell_type": "code",
   "execution_count": 15,
   "metadata": {
    "colab": {
     "base_uri": "https://localhost:8080/"
    },
    "id": "-UHTC8GuqrMF",
    "outputId": "667fb3d5-d1f5-4a29-8bfb-be8b88b7387d"
   },
   "outputs": [
    {
     "data": {
      "text/plain": [
       "134.4913151364764"
      ]
     },
     "execution_count": 15,
     "metadata": {},
     "output_type": "execute_result"
    }
   ],
   "source": [
    "37.94/28.21*100"
   ]
  },
  {
   "cell_type": "code",
   "execution_count": 16,
   "metadata": {
    "colab": {
     "base_uri": "https://localhost:8080/",
     "height": 110
    },
    "id": "Ll88J_x7qvT4",
    "outputId": "69f94887-28db-4e98-9cb7-47d4391cff49"
   },
   "outputs": [
    {
     "ename": "SyntaxError",
     "evalue": "invalid syntax (3223064538.py, line 1)",
     "output_type": "error",
     "traceback": [
      "\u001b[1;36m  Cell \u001b[1;32mIn[16], line 1\u001b[1;36m\u001b[0m\n\u001b[1;33m    pip install \\\u001b[0m\n\u001b[1;37m        ^\u001b[0m\n\u001b[1;31mSyntaxError\u001b[0m\u001b[1;31m:\u001b[0m invalid syntax\n"
     ]
    }
   ],
   "source": [
    "pip install \\\n",
    "--extra-index-url=https://pypi.nvidia.com \\\n",
    "cudf-cu12==24.6.* \\\n",
    "dask-cudf-cu12==24.6.* \\\n",
    "cuml-cu12==24.6.* \\\n",
    "cugraph-cu12==24.6.*"
   ]
  },
  {
   "cell_type": "code",
   "execution_count": 28,
   "metadata": {
    "id": "2LffUYGJNfys"
   },
   "outputs": [
    {
     "name": "stdout",
     "output_type": "stream",
     "text": [
      "\n",
      "Note: you may need to restart the kernel to use updated packages.\n"
     ]
    },
    {
     "name": "stderr",
     "output_type": "stream",
     "text": [
      "usage: conda-script.py [-h] [-V] command ...\n",
      "conda-script.py: error: unrecognized arguments: cudf\n"
     ]
    }
   ],
   "source": [
    "conda install -c nvidia/label/cuda10.0 -c rapidsai/label/cuda10.0 -c numba -c conda-forge -c defaults cudf"
   ]
  },
  {
   "cell_type": "code",
   "execution_count": 30,
   "metadata": {},
   "outputs": [
    {
     "name": "stdout",
     "output_type": "stream",
     "text": [
      "Collecting cudf-cuda100\n",
      "  Downloading cudf-cuda100-0.6.1.post1.tar.gz (1.1 kB)\n",
      "  Preparing metadata (setup.py): started\n",
      "  Preparing metadata (setup.py): finished with status 'done'\n",
      "Building wheels for collected packages: cudf-cuda100\n",
      "  Building wheel for cudf-cuda100 (setup.py): started\n",
      "  Building wheel for cudf-cuda100 (setup.py): finished with status 'error'\n",
      "  Running setup.py clean for cudf-cuda100\n",
      "Failed to build cudf-cuda100\n",
      "Installing collected packages: cudf-cuda100\n",
      "  Running setup.py install for cudf-cuda100: started\n",
      "  Running setup.py install for cudf-cuda100: finished with status 'error'\n",
      "Note: you may need to restart the kernel to use updated packages.\n"
     ]
    },
    {
     "name": "stderr",
     "output_type": "stream",
     "text": [
      "  error: subprocess-exited-with-error\n",
      "  \n",
      "  python setup.py bdist_wheel did not run successfully.\n",
      "  exit code: 1\n",
      "  \n",
      "  [34 lines of output]\n",
      "  running bdist_wheel\n",
      "  running build\n",
      "  C:\\Users\\Varadaraju Harini\\anaconda3\\lib\\site-packages\\setuptools\\command\\install.py:34: SetuptoolsDeprecationWarning: setup.py install is deprecated. Use build and pip and other standards-based tools.\n",
      "    warnings.warn(\n",
      "  installing to build\\bdist.win-amd64\\wheel\n",
      "  running install\n",
      "  Traceback (most recent call last):\n",
      "    File \"<string>\", line 2, in <module>\n",
      "    File \"<pip-setuptools-caller>\", line 34, in <module>\n",
      "    File \"C:\\Users\\Varadaraju Harini\\AppData\\Local\\Temp\\pip-install-unh5wwzv\\cudf-cuda100_3557845302ce4544ab35c3e273bf243d\\setup.py\", line 18, in <module>\n",
      "      setup(name=pkg,\n",
      "    File \"C:\\Users\\Varadaraju Harini\\anaconda3\\lib\\site-packages\\setuptools\\__init__.py\", line 87, in setup\n",
      "      return distutils.core.setup(**attrs)\n",
      "    File \"C:\\Users\\Varadaraju Harini\\anaconda3\\lib\\site-packages\\setuptools\\_distutils\\core.py\", line 185, in setup\n",
      "      return run_commands(dist)\n",
      "    File \"C:\\Users\\Varadaraju Harini\\anaconda3\\lib\\site-packages\\setuptools\\_distutils\\core.py\", line 201, in run_commands\n",
      "      dist.run_commands()\n",
      "    File \"C:\\Users\\Varadaraju Harini\\anaconda3\\lib\\site-packages\\setuptools\\_distutils\\dist.py\", line 969, in run_commands\n",
      "      self.run_command(cmd)\n",
      "    File \"C:\\Users\\Varadaraju Harini\\anaconda3\\lib\\site-packages\\setuptools\\dist.py\", line 1208, in run_command\n",
      "      super().run_command(command)\n",
      "    File \"C:\\Users\\Varadaraju Harini\\anaconda3\\lib\\site-packages\\setuptools\\_distutils\\dist.py\", line 988, in run_command\n",
      "      cmd_obj.run()\n",
      "    File \"C:\\Users\\Varadaraju Harini\\anaconda3\\lib\\site-packages\\wheel\\bdist_wheel.py\", line 360, in run\n",
      "      self.run_command(\"install\")\n",
      "    File \"C:\\Users\\Varadaraju Harini\\anaconda3\\lib\\site-packages\\setuptools\\_distutils\\cmd.py\", line 318, in run_command\n",
      "      self.distribution.run_command(command)\n",
      "    File \"C:\\Users\\Varadaraju Harini\\anaconda3\\lib\\site-packages\\setuptools\\dist.py\", line 1208, in run_command\n",
      "      super().run_command(command)\n",
      "    File \"C:\\Users\\Varadaraju Harini\\anaconda3\\lib\\site-packages\\setuptools\\_distutils\\dist.py\", line 988, in run_command\n",
      "      cmd_obj.run()\n",
      "    File \"C:\\Users\\Varadaraju Harini\\AppData\\Local\\Temp\\pip-install-unh5wwzv\\cudf-cuda100_3557845302ce4544ab35c3e273bf243d\\setup.py\", line 15, in run\n",
      "      raise Exception(long_description)\n",
      "  Exception: Please install cudf via the rapidsai conda channel. See https://rapids.ai/start.html for instructions.\n",
      "  [end of output]\n",
      "  \n",
      "  note: This error originates from a subprocess, and is likely not a problem with pip.\n",
      "  ERROR: Failed building wheel for cudf-cuda100\n",
      "  error: subprocess-exited-with-error\n",
      "  \n",
      "  Running setup.py install for cudf-cuda100 did not run successfully.\n",
      "  exit code: 1\n",
      "  \n",
      "  [23 lines of output]\n",
      "  running install\n",
      "  C:\\Users\\Varadaraju Harini\\anaconda3\\lib\\site-packages\\setuptools\\command\\install.py:34: SetuptoolsDeprecationWarning: setup.py install is deprecated. Use build and pip and other standards-based tools.\n",
      "    warnings.warn(\n",
      "  Traceback (most recent call last):\n",
      "    File \"<string>\", line 2, in <module>\n",
      "    File \"<pip-setuptools-caller>\", line 34, in <module>\n",
      "    File \"C:\\Users\\Varadaraju Harini\\AppData\\Local\\Temp\\pip-install-unh5wwzv\\cudf-cuda100_3557845302ce4544ab35c3e273bf243d\\setup.py\", line 18, in <module>\n",
      "      setup(name=pkg,\n",
      "    File \"C:\\Users\\Varadaraju Harini\\anaconda3\\lib\\site-packages\\setuptools\\__init__.py\", line 87, in setup\n",
      "      return distutils.core.setup(**attrs)\n",
      "    File \"C:\\Users\\Varadaraju Harini\\anaconda3\\lib\\site-packages\\setuptools\\_distutils\\core.py\", line 185, in setup\n",
      "      return run_commands(dist)\n",
      "    File \"C:\\Users\\Varadaraju Harini\\anaconda3\\lib\\site-packages\\setuptools\\_distutils\\core.py\", line 201, in run_commands\n",
      "      dist.run_commands()\n",
      "    File \"C:\\Users\\Varadaraju Harini\\anaconda3\\lib\\site-packages\\setuptools\\_distutils\\dist.py\", line 969, in run_commands\n",
      "      self.run_command(cmd)\n",
      "    File \"C:\\Users\\Varadaraju Harini\\anaconda3\\lib\\site-packages\\setuptools\\dist.py\", line 1208, in run_command\n",
      "      super().run_command(command)\n",
      "    File \"C:\\Users\\Varadaraju Harini\\anaconda3\\lib\\site-packages\\setuptools\\_distutils\\dist.py\", line 988, in run_command\n",
      "      cmd_obj.run()\n",
      "    File \"C:\\Users\\Varadaraju Harini\\AppData\\Local\\Temp\\pip-install-unh5wwzv\\cudf-cuda100_3557845302ce4544ab35c3e273bf243d\\setup.py\", line 15, in run\n",
      "      raise Exception(long_description)\n",
      "  Exception: Please install cudf via the rapidsai conda channel. See https://rapids.ai/start.html for instructions.\n",
      "  [end of output]\n",
      "  \n",
      "  note: This error originates from a subprocess, and is likely not a problem with pip.\n",
      "error: legacy-install-failure\n",
      "\n",
      "Encountered error while trying to install package.\n",
      "\n",
      "cudf-cuda100\n",
      "\n",
      "note: This is an issue with the package mentioned above, not pip.\n",
      "hint: See above for output from the failure.\n"
     ]
    }
   ],
   "source": [
    "pip install cudf-cuda100"
   ]
  },
  {
   "cell_type": "code",
   "execution_count": null,
   "metadata": {},
   "outputs": [],
   "source": []
  }
 ],
 "metadata": {
  "colab": {
   "provenance": []
  },
  "kernelspec": {
   "display_name": "Python 3 (ipykernel)",
   "language": "python",
   "name": "python3"
  },
  "language_info": {
   "codemirror_mode": {
    "name": "ipython",
    "version": 3
   },
   "file_extension": ".py",
   "mimetype": "text/x-python",
   "name": "python",
   "nbconvert_exporter": "python",
   "pygments_lexer": "ipython3",
   "version": "3.10.9"
  }
 },
 "nbformat": 4,
 "nbformat_minor": 1
}
